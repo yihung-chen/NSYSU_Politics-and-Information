{
 "cells": [
  {
   "cell_type": "markdown",
   "metadata": {},
   "source": [
    "## Mallet-TM : \n",
    "### Extract Topic Model with LdaMallet from KCC News and CIS test data"
   ]
  },
  {
   "cell_type": "code",
   "execution_count": 1,
   "metadata": {},
   "outputs": [],
   "source": [
    "# -*- coding: utf-8 -*-\n",
    "\"\"\"\n",
    "Input: \"CkipNewsCis18850-KccDict2020.txt\"\n",
    "Output: \"CkipNewsCis18850-KccDict2020-MalletNum12.txt\"\n",
    "\n",
    "@author: johnson\n",
    "\"\"\"\n",
    "# When numpy version = 1.19.2 => gensim version should downgrade to 3.8.3\n",
    "from gensim import corpora, models, utils\n",
    "from gensim.models import LdaModel\n",
    "from gensim.models import CoherenceModel"
   ]
  },
  {
   "cell_type": "markdown",
   "metadata": {},
   "source": [
    "### read data from txt file, and tokenize words, clean-up text"
   ]
  },
  {
   "cell_type": "code",
   "execution_count": 3,
   "metadata": {},
   "outputs": [
    {
     "name": "stdout",
     "output_type": "stream",
     "text": [
      "fList[:2] =  [['馬英九', '昨天', '上午', '視察', '衛武營藝術文化中心', '文化部', '洪孟啟', '工程', '副主委', '顏久榮', '高雄市', '副市長', '吳宏謀', '一同', '到場', '聽取', '衛武營', '興建', '工程', '簡報', '瞭解', '工程進度', '執行', '情形', '完成', '百分之九十五', '工程進度', '共計', '投入', '新臺幣', '一百零五億八千萬', '經費', '預計', '六月', '竣工', '明年', '開館', '營運', '目標', '馬英九', '指出', '衛武營', '案子', '九十四年', '編列', '預算', '核定', '施工', '正式', '完工', '時間', '長達', '十三', '原先', '預計', '故宮', '南院', '工程', '單位', '部門', '克服', '困難', '值得', '檢討', '總統', '致詞', '民國', '九十九年', '主持', '動土', '典禮', '原從', '黃土', '生長出', '有如', '魟魚', '悠遊', '海浪', '建築', '實在', '驚豔', '過程', '包含', '團隊', '付出', '努力', '籌建', '過程', '艱辛', '各界', '關注', '投入', '新建', '工程', '幾近', '完工', '特別', '肯定', '文化部', '籌建', '過程', '付出', '辛勞', '高雄市政府', '各界', '支持', '配合', '總統', '文化', '城市', '期許', '衛武營藝術文化中心', '臺灣', '藝術', '力量', '南方', '集結地', '臺北', '國家兩廳院', '臺中', '國家歌劇院', '攜手', '並進', '打造', '台灣', '國際', '藝文', '版圖', '地標', '文化部', '洪孟啟', '衛武營', '考驗', '面臨', '營運', '壓力', '文化部', '衛武營', '南部', '高雄市文化中心', '嘉義', '文化', '園區', '故宮', '南院', '台南', '地方', '藝文', '團體', '高雄大東文化藝術中心', '屏東', '演藝廳', '結合成', '文化', '廊帶', '衛武營', '國際', '接軌', '文化部', '邀請', '台灣', '旅德', '指揮家', '簡文彬', '擔任', '衛武', '國家', '藝術', '高雄市文化中心', '藝術', '總監', '接洽', '國外', '藝文', '團隊', '國際', '表演', '節目', '第一', '高雄', '演出', '衛武營', '台灣', '文化', '指標', '場館'], ['日本', '九州熊本', '接連', '強震', '襲擊', '台灣', '捐贈', '熊本', '縣政府', '日本', '政府', '款項', '高雄市', '陳菊', '台南市長', '賴清德', '台中市長', '林佳龍', '捐出', '薪水', '消息', '傳出', '日本', '網友', '紛紛', '留言', '台灣', '熊本', '十四日', '十六日', '接連', '發生', '強震', '災情', '慘重', '外交部', '捐贈', '熊本', '縣政府', '一千萬', '日圓', '總統', '馬英九', '指示', '追加', '援贈款', '五十萬', '美元', '日本', '政府', '新台幣', '一六', '賑災', '日本', 'yahoo', '新聞', '報導', '台灣', '市長', '一月', '消息', '引述', '台北', '市長', '柯文哲', '台灣', '災難', '日本', '關心', '協助', '日本', '震災', '協助', '一同', '日本', '祈禱', '底下', '評論', '突破', '一八', '持續', '日本', '網友', '台灣', '第一', '時間', '送暖', '留言', '台灣', '兄弟', '台灣', '家族', '推特', '網友', '英文', '發文', '台灣', '親愛', '台灣', '捐款給', '熊本', '深深', '感激', '溫暖', '支援', '日本人', '台灣', '政府', '支持', '熊本', '表達', '衷心', '親愛', '支持', '網友', '放上', '日本', '中華民國', '國旗', '一同', '飄揚', '照片', '截取', '台灣', '搜救隊', '待命', '支援', '日本', '新聞', '畫面']]\n",
      "------------------------------\n"
     ]
    }
   ],
   "source": [
    "fList = []\n",
    "with open(\"KCC Data/CkipNewsCis18850-KccDict2020.txt\",\"r\", encoding='utf-8-sig') as files:\n",
    "     for file in files:\n",
    "        #simple_preprocess: tokenize,去除標點 - gensim.utils.simple_preprocess(doc, deacc=False, min_len=2, max_len=15)\n",
    "        fList.append(list(utils.simple_preprocess(file, deacc=True, min_len=2,)))\n",
    "print(\"fList[:2] = \", fList[:2])\n",
    "print(\"------------------------------\")"
   ]
  },
  {
   "cell_type": "markdown",
   "metadata": {},
   "source": [
    "### creat dictionary for corpus"
   ]
  },
  {
   "cell_type": "code",
   "execution_count": 4,
   "metadata": {},
   "outputs": [
    {
     "name": "stdout",
     "output_type": "stream",
     "text": [
      "dict =  Dictionary(113533 unique tokens: ['一同', '一百零五億八千萬', '上午', '並進', '主持']...)\n",
      "------------------------------\n"
     ]
    }
   ],
   "source": [
    "# creat a unique id for each word segment\n",
    "dict = corpora.Dictionary(list(fList))\n",
    "print(\"dict = \", dict)\n",
    "print(\"------------------------------\")"
   ]
  },
  {
   "cell_type": "markdown",
   "metadata": {},
   "source": [
    "### creat corpus need for Topic Modeling"
   ]
  },
  {
   "cell_type": "code",
   "execution_count": 5,
   "metadata": {},
   "outputs": [
    {
     "name": "stdout",
     "output_type": "stream",
     "text": [
      "corpus[:1] =  [[(0, 1), (1, 1), (2, 1), (3, 1), (4, 1), (5, 1), (6, 1), (7, 2), (8, 1), (9, 1), (10, 1), (11, 1), (12, 1), (13, 1), (14, 1), (15, 1), (16, 1), (17, 1), (18, 1), (19, 1), (20, 1), (21, 1), (22, 1), (23, 2), (24, 1), (25, 1), (26, 1), (27, 3), (28, 2), (29, 1), (30, 1), (31, 1), (32, 1), (33, 1), (34, 1), (35, 1), (36, 1), (37, 3), (38, 1), (39, 2), (40, 1), (41, 1), (42, 1), (43, 1), (44, 1), (45, 1), (46, 1), (47, 2), (48, 1), (49, 1), (50, 1), (51, 4), (52, 2), (53, 1), (54, 1), (55, 1), (56, 1), (57, 1), (58, 1), (59, 2), (60, 1), (61, 1), (62, 1), (63, 1), (64, 1), (65, 1), (66, 1), (67, 1), (68, 2), (69, 4), (70, 5), (71, 1), (72, 1), (73, 1), (74, 1), (75, 1), (76, 1), (77, 1), (78, 1), (79, 1), (80, 1), (81, 1), (82, 1), (83, 1), (84, 1), (85, 2), (86, 1), (87, 1), (88, 1), (89, 2), (90, 1), (91, 1), (92, 1), (93, 1), (94, 1), (95, 1), (96, 1), (97, 1), (98, 1), (99, 1), (100, 1), (101, 2), (102, 1), (103, 1), (104, 1), (105, 1), (106, 2), (107, 1), (108, 1), (109, 1), (110, 1), (111, 1), (112, 1), (113, 1), (114, 1), (115, 1), (116, 3), (117, 3), (118, 1), (119, 6), (120, 2), (121, 1), (122, 1), (123, 1), (124, 3), (125, 1), (126, 1), (127, 1), (128, 1), (129, 1), (130, 1), (131, 1), (132, 1), (133, 1), (134, 2), (135, 1), (136, 2), (137, 1), (138, 1), (139, 1), (140, 1), (141, 1), (142, 2), (143, 1), (144, 1)]]\n",
      "================================================\n",
      "print lists of [word:frequency]\n",
      "('一同', 1)\n",
      "('一百零五億八千萬', 1)\n",
      "('上午', 1)\n",
      "('並進', 1)\n",
      "('主持', 1)\n",
      "('九十九年', 1)\n",
      "('九十四年', 1)\n",
      "('付出', 2)\n",
      "('值得', 1)\n",
      "('克服', 1)\n",
      "('六月', 1)\n",
      "('共計', 1)\n",
      "('典禮', 1)\n",
      "('到場', 1)\n",
      "('副主委', 1)\n",
      "('副市長', 1)\n",
      "('力量', 1)\n",
      "('努力', 1)\n",
      "('動土', 1)\n",
      "('包含', 1)\n",
      "('十三', 1)\n",
      "('南方', 1)\n",
      "('南部', 1)\n",
      "('南院', 2)\n",
      "('原先', 1)\n",
      "('原從', 1)\n",
      "('台南', 1)\n",
      "('台灣', 3)\n",
      "('各界', 2)\n",
      "('吳宏謀', 1)\n",
      "('單位', 1)\n",
      "('嘉義', 1)\n",
      "('困難', 1)\n",
      "('國外', 1)\n",
      "('國家', 1)\n",
      "('國家兩廳院', 1)\n",
      "('國家歌劇院', 1)\n",
      "('國際', 3)\n",
      "('園區', 1)\n",
      "('團隊', 2)\n",
      "('團體', 1)\n",
      "('地方', 1)\n",
      "('地標', 1)\n",
      "('城市', 1)\n",
      "('執行', 1)\n",
      "('場館', 1)\n",
      "('壓力', 1)\n",
      "('完工', 2)\n",
      "('完成', 1)\n",
      "('實在', 1)\n",
      "('屏東', 1)\n",
      "('工程', 4)\n",
      "('工程進度', 2)\n",
      "('幾近', 1)\n",
      "('廊帶', 1)\n",
      "('建築', 1)\n",
      "('悠遊', 1)\n",
      "('情形', 1)\n",
      "('打造', 1)\n",
      "('投入', 2)\n",
      "('指出', 1)\n",
      "('指揮家', 1)\n",
      "('指標', 1)\n",
      "('接洽', 1)\n",
      "('接軌', 1)\n",
      "('擔任', 1)\n",
      "('攜手', 1)\n",
      "('支持', 1)\n",
      "('故宮', 2)\n",
      "('文化', 4)\n",
      "('文化部', 5)\n",
      "('新建', 1)\n",
      "('新臺幣', 1)\n",
      "('施工', 1)\n",
      "('旅德', 1)\n",
      "('明年', 1)\n",
      "('昨天', 1)\n",
      "('時間', 1)\n",
      "('有如', 1)\n",
      "('期許', 1)\n",
      "('核定', 1)\n",
      "('案子', 1)\n",
      "('檢討', 1)\n",
      "('正式', 1)\n",
      "('民國', 1)\n",
      "('洪孟啟', 2)\n",
      "('海浪', 1)\n",
      "('演出', 1)\n",
      "('演藝廳', 1)\n",
      "('營運', 2)\n",
      "('版圖', 1)\n",
      "('特別', 1)\n",
      "('生長出', 1)\n",
      "('百分之九十五', 1)\n",
      "('目標', 1)\n",
      "('瞭解', 1)\n",
      "('竣工', 1)\n",
      "('第一', 1)\n",
      "('節目', 1)\n",
      "('簡報', 1)\n",
      "('簡文彬', 1)\n",
      "('籌建', 2)\n",
      "('結合成', 1)\n",
      "('經費', 1)\n",
      "('編列', 1)\n",
      "('總監', 1)\n",
      "('總統', 2)\n",
      "('考驗', 1)\n",
      "('聽取', 1)\n",
      "('肯定', 1)\n",
      "('致詞', 1)\n",
      "('臺中', 1)\n",
      "('臺北', 1)\n",
      "('臺灣', 1)\n",
      "('興建', 1)\n",
      "('艱辛', 1)\n",
      "('藝文', 3)\n",
      "('藝術', 3)\n",
      "('衛武', 1)\n",
      "('衛武營', 6)\n",
      "('衛武營藝術文化中心', 2)\n",
      "('表演', 1)\n",
      "('視察', 1)\n",
      "('辛勞', 1)\n",
      "('過程', 3)\n",
      "('邀請', 1)\n",
      "('部門', 1)\n",
      "('配合', 1)\n",
      "('長達', 1)\n",
      "('開館', 1)\n",
      "('關注', 1)\n",
      "('集結地', 1)\n",
      "('面臨', 1)\n",
      "('預算', 1)\n",
      "('預計', 2)\n",
      "('顏久榮', 1)\n",
      "('馬英九', 2)\n",
      "('驚豔', 1)\n",
      "('高雄', 1)\n",
      "('高雄大東文化藝術中心', 1)\n",
      "('高雄市', 1)\n",
      "('高雄市政府', 1)\n",
      "('高雄市文化中心', 2)\n",
      "('魟魚', 1)\n",
      "('黃土', 1)\n",
      "======================================================\n"
     ]
    }
   ],
   "source": [
    "# creat mapping matrix of [word_id, word_frequency] for each word segment\n",
    "corpus = [dict.doc2bow(text) for text in fList]   \n",
    "print(\"corpus[:1] = \", corpus[:1])  \n",
    "print(\"================================================\")\n",
    "\n",
    "print(\"print lists of [word:frequency]\")\n",
    "[[print((dict[id], freq)) for id,freq in cp] for cp in corpus[:1]]\n",
    "print(\"======================================================\")"
   ]
  },
  {
   "cell_type": "markdown",
   "metadata": {},
   "source": [
    "### building the Topic Model from MALLET\n",
    "#### enviroment setting for Mallet LDA: https://programminghistorian.org/en/lessons/topic-modeling-and-mallet#installing-mallet"
   ]
  },
  {
   "cell_type": "code",
   "execution_count": 6,
   "metadata": {},
   "outputs": [
    {
     "name": "stdout",
     "output_type": "stream",
     "text": [
      "strTM =  0[('陳菊', 0.02119198904195555), ('總統', 0.020594606662925483), ('韓國瑜', 0.020588572497480737), ('民主進步黨', 0.020335137548801313), ('台灣', 0.01857316123893485), ('蔡英文', 0.01472939785063027), ('政治', 0.012907079886316323), ('高雄', 0.011301991878013312), ('中國國民黨', 0.009479673913699365), ('高雄市', 0.00917193147601721), ('陳水扁', 0.008894359865558794), ('執政', 0.008749539894884839), ('立法院', 0.008719369067661097), ('媒體', 0.007379784338927005), ('馬英九', 0.006251395400759098), ('民主', 0.006052267941082408), ('政府', 0.0055876372018368), ('行政院', 0.005285928929599392), ('支持', 0.005189382282483421), ('昨天', 0.004911810672025006)]\n",
      "\n",
      "strTM =  1[('高雄市政府環境保護局', 0.02379127142314333), ('中國石油', 0.020271576463373173), ('污染', 0.01855839160606081), ('林園', 0.013692146680621013), ('管線', 0.013685480591682054), ('居民', 0.012998873430969317), ('公司', 0.01215894622466053), ('工廠', 0.009932472519048349), ('工業區', 0.009512508915893956), ('石化', 0.008865898288814969), ('環境', 0.008779239132608507), ('遷村', 0.007419356989060948), ('環保', 0.007059388186357182), ('地方', 0.0070327238306013475), ('大林蒲', 0.0067594141841040446), ('業者', 0.005939485244612134), ('管理', 0.005886156533100465), ('小港', 0.005646177331297954), ('環境影響評估', 0.005632845153420037), ('高雄市', 0.004872911014378754)]\n",
      "\n",
      "strTM =  2[('高雄市', 0.03907435786509851), ('預算', 0.02920494790330031), ('市府', 0.029080297108834807), ('中央', 0.025986024446220515), ('經費', 0.011497202689524201), ('建設', 0.011071923508406595), ('政府', 0.010529325932497929), ('補助', 0.010104046751380324), ('台北市', 0.009950066358217054), ('編列', 0.009744759167332693), ('財政', 0.009642105571890512), ('縣市', 0.008762217610957537), ('市民', 0.008028977643513393), ('地方', 0.00797031844611786), ('去年', 0.007743014056210176), ('減少', 0.00750837726662805), ('調整', 0.006188545325228587), ('高雄', 0.006159215726530822), ('費用', 0.006115221328484173), ('縣市合併', 0.006085891729786407)]\n",
      "\n",
      "strTM =  3[('活動', 0.037745001440070335), ('高雄', 0.02120693052797526), ('舉辦', 0.018205520774909428), ('民眾', 0.014756931285907018), ('參加', 0.009542360805833042), ('昨天', 0.008170504327790326), ('現場', 0.008094711152207855), ('邀請', 0.006412102654277009), ('參與', 0.005335839561005927), ('推出', 0.004994770270884809), ('體驗', 0.004691597568554928), ('主辦', 0.004396004183783292), ('下午', 0.004297473055526081), ('上午', 0.004282314420409586), ('客家', 0.004138307386802893), ('表演', 0.004115569434128151), ('藝術', 0.003926086495171975), ('吸引', 0.0037441828737740453), ('特別', 0.003312161772953963), ('傳統', 0.003092361563764799)]\n",
      "\n",
      "strTM =  4[('昨天', 0.009361653290924444), ('理事長', 0.008902587980686466), ('服務', 0.008681252920393156), ('代表', 0.007549984834449573), ('擔任', 0.006926967627698033), ('台灣', 0.006877782058743964), ('支持', 0.006131800929607253), ('社會', 0.005803897136580127), ('高雄市', 0.005574364481461139), ('林武忠', 0.005336634231516473), ('里長', 0.005287448662562404), ('精神', 0.004795592973021716), ('三民區', 0.004672629050636543), ('肯定', 0.004533269938600015), ('陳菊', 0.004402108421389164), ('鄉親', 0.004254551714526958), ('父親', 0.004025019059407969), ('前往', 0.0039020551370227974), ('團體', 0.00380368399911466), ('參與', 0.0037217080508578785)]\n",
      "\n",
      "strTM =  5[('指出', 0.022169214528047966), ('高市', 0.021460057538419387), ('公司', 0.016230024739908616), ('業者', 0.013345045168465079), ('高市府', 0.012055668823685844), ('去年', 0.011797793554729997), ('市府', 0.010524534414260503), ('廠商', 0.01011354570436212), ('陸淑美', 0.01007325269358777), ('垃圾', 0.008767759144498795), ('民眾', 0.008743583338034185), ('系統', 0.0061648306484757154), ('相關', 0.005842486562280907), ('提供', 0.005769959142887074), ('預計', 0.005761900540732204), ('昨天', 0.005560435486860449), ('超過', 0.005455673658847136), ('目前', 0.005157505379116938), ('持續', 0.005068860755413366), ('明年', 0.004915747314470832)]\n",
      "\n",
      "strTM =  6[('原住民', 0.015597759717016886), ('地區', 0.012195224659957047), ('協助', 0.010763464858718996), ('市府', 0.010148650355834421), ('美濃', 0.009348549290436686), ('區公所', 0.009205373310312882), ('氣爆', 0.009087463679622688), ('旗山', 0.008540026108561081), ('原民會', 0.008085231818756053), ('中央', 0.008009432770455216), ('重建', 0.0073272413357476735), ('相關', 0.007032467259022192), ('主委', 0.0067124268328630984), ('計畫', 0.006341853707836779), ('目前', 0.006325009474881038), ('區長', 0.006047079631111298), ('部落', 0.005878637301553881), ('高雄氣爆', 0.005861793068598139), ('原鄉', 0.005322777614014402), ('災民', 0.005280667031625047)]\n",
      "\n",
      "strTM =  7[('議員', 0.026280390785337095), ('議長', 0.01478127858444084), ('選舉', 0.009992544024843002), ('調查', 0.0073329899997694025), ('指出', 0.006917915094122078), ('違反', 0.006087765282827428), ('投票', 0.005964780125598592), ('法院', 0.00595709355327179), ('判決', 0.005941720408618185), ('亮票', 0.005803362106735743), ('法律', 0.005795675534408941), ('高雄市議會', 0.005511272358317255), ('賄選', 0.005372914056434814), ('臺灣高雄地方檢察署', 0.005365227484108012), ('當選', 0.0053344811948008025), ('檢方', 0.00522686918222557), ('司法', 0.005188436320591559), ('蕭永達', 0.005165376603611152), ('檢察官', 0.005103884024996733), ('昨天', 0.004973212295441094)]\n",
      "\n",
      "strTM =  8[('道路', 0.03051825993555317), ('工程', 0.02613453276047261), ('工務局', 0.0174140708915145), ('公園', 0.01645408163265306), ('改善', 0.013802363050483352), ('水利局', 0.013520408163265307), ('地方', 0.012896079484425348), ('完成', 0.01287593984962406), ('經費', 0.012399301825993555), ('開闢', 0.009479054779806659), ('排水', 0.009002416756176154), ('會勘', 0.008854726100966702), ('公尺', 0.008015574650912996), ('高雄市政府工務局養護工程處', 0.00798200859291085), ('單位', 0.007841031149301826), ('施工', 0.007619495166487648), ('淹水', 0.007552363050483351), ('完工', 0.007162996777658432), ('目前', 0.006276852846401719), ('里長', 0.006223147153598282)]\n",
      "\n",
      "strTM =  9[('服務', 0.018105129123393418), ('照顧', 0.014157813059567865), ('社會局', 0.012454737177191517), ('高雄市', 0.012367195893517965), ('社會', 0.011237117504277586), ('提供', 0.010672078309657395), ('工作', 0.00952608332338546), ('老人', 0.009215709681270145), ('社區', 0.008849627949544388), ('補助', 0.008738211770323506), ('需要', 0.008547212605944848), ('申請', 0.008388046635629302), ('勞工', 0.008332338546018862), ('人口', 0.008029923202419322), ('長輩', 0.007647924873662011), ('黃淑美', 0.007536508694441129), ('協助', 0.0072500099478731445), ('生活', 0.006987386096852493), ('相關', 0.00651784648442163), ('人員', 0.006462138394811189)]\n",
      "\n",
      "strTM =  10[('觀光', 0.02962511210762332), ('文化', 0.016810762331838563), ('地方', 0.01463677130044843), ('鳳山', 0.012527354260089687), ('規劃', 0.01245560538116592), ('歷史', 0.009363228699551569), ('文化局', 0.008667264573991031), ('觀光局', 0.008014349775784753), ('空間', 0.007799103139013453), ('景點', 0.006686995515695068), ('遊客', 0.006478923766816144), ('特色', 0.0064), ('旗津', 0.00631390134529148), ('高雄市', 0.005998206278026906), ('眷村', 0.005912107623318385), ('左營', 0.005689686098654709), ('旅遊', 0.005596412556053812), ('發展', 0.005589237668161435), ('圖書館', 0.005302242152466368), ('蓮池潭', 0.005230493273542601)]\n",
      "\n",
      "strTM =  11[('學校', 0.03623636969668111), ('學生', 0.025522594162182752), ('教育局', 0.025467041252003872), ('教育', 0.022983032554005366), ('運動', 0.01794358998777836), ('孩子', 0.013158103582369093), ('老師', 0.01236449057981366), ('家長', 0.010824881354856118), ('高雄市', 0.010824881354856118), ('校長', 0.007674237734711046), ('國中', 0.007483770614097741), ('國小', 0.0068568163420789485), ('學習', 0.006460009840801232), ('校園', 0.006452073710775677), ('教師', 0.0056346523181435805), ('新輝', 0.005618780058092472), ('教育部', 0.0054283129374791675), ('小朋友', 0.00510293160643144), ('中心', 0.004991825786073679), ('大學', 0.004991825786073679)]\n",
      "\n",
      "strTM =  12[('陳菊', 0.045464146817261214), ('議員', 0.042090679787775996), ('市長', 0.04181111069693468), ('議會', 0.03782259166759856), ('市府', 0.029242926902001715), ('市民', 0.022011406418906327), ('康裕成', 0.014338788036927971), ('高雄市議會', 0.01398466718852897), ('高雄市', 0.013114896683689318), ('團隊', 0.011480970663883401), ('質詢', 0.010219803431865905), ('許崑源', 0.009989935512729713), ('意見', 0.009666877896646414), ('副市長', 0.008368434785850077), ('議長', 0.007883848361725128), ('市政', 0.0075732160385681094), ('討論', 0.00725015842248481), ('監督', 0.007200457250779687), ('陳美雅', 0.0071321181396851435), ('提出', 0.006510853493371107)]\n",
      "\n",
      "strTM =  13[('市長', 0.0514164061451121), ('局長', 0.04563954045915725), ('議員', 0.033590977962753406), ('裡面', 0.0203993172097662), ('真的', 0.018109284796409598), ('本席', 0.017840771783118204), ('市政府', 0.016962350639636355), ('答覆', 0.01655574521950939), ('地方', 0.016195170601660945), ('辦法', 0.015466349565584304), ('回答', 0.014595600222482212), ('時間', 0.012432152515391549), ('剛剛', 0.012029382995454458), ('報告', 0.011991023993555687), ('提到', 0.011147125951782735), ('包括', 0.010805730834883676), ('需要', 0.010391453614376954), ('許崑源', 0.009616601776021787), ('蔡昌達', 0.008197318705767277), ('有沒有', 0.007564395174437561)]\n",
      "\n",
      "strTM =  14[('高雄', 0.07790504061758918), ('產業', 0.025721670002410706), ('城市', 0.02312035028115557), ('高雄市', 0.022823216778512203), ('發展', 0.020524636852403137), ('台灣', 0.019111851141721467), ('經濟', 0.013107511871324374), ('國際', 0.011134096910372203), ('推動', 0.009211138581944374), ('機會', 0.008801879229246906), ('投資', 0.0083477695365278), ('包括', 0.007820778041273525), ('第一', 0.006654669200710878), ('合作', 0.006576181105673007), ('努力', 0.006071614780429554), ('高雄市政府', 0.0059594889303754535), ('世界', 0.005494166652650935), ('國家', 0.00542128485011577), ('透過', 0.0049896003274074825), ('更多', 0.004939143694883137)]\n",
      "\n",
      "strTM =  15[('交通', 0.026393074212166096), ('交通局', 0.01688671535829205), ('捷運', 0.016867562183972624), ('高雄輕軌', 0.014996935492108893), ('規劃', 0.012149496909954543), ('民眾', 0.01103222840798815), ('公車', 0.010917309362071607), ('機車', 0.009768118902906174), ('運輸', 0.007833648296644364), ('目前', 0.007699576076408397), ('路線', 0.007680422902088973), ('停車', 0.007514428724653966), ('車站', 0.006997293018029521), ('鐵路地下化', 0.006633382705960468), ('停車場', 0.00659507635732162), ('國道', 0.00631416313397007), ('交通部', 0.006288625568210839), ('高雄市政府捷運工程局', 0.006007712344859288), ('車輛', 0.005860871341743705), ('改善', 0.005809796210225242)]\n",
      "\n",
      "strTM =  16[('發生', 0.018144247963441287), ('民眾', 0.013550566262666403), ('高雄市政府警察局', 0.010935823564474468), ('人員', 0.01033975759984105), ('警方', 0.009266838863500894), ('警察', 0.007931651102722035), ('現場', 0.007121001390820584), ('電話', 0.006977945559308563), ('事件', 0.006946155374528114), ('發現', 0.006850784820186767), ('小時', 0.005706338168090602), ('員警', 0.005340751043115438), ('消防', 0.005022849195310947), ('下午', 0.004959268825750049), ('單位', 0.004943373733359825), ('監視器', 0.004887740909994039), ('高市', 0.004879793363798927), ('消防局', 0.004379097953506854), ('治安', 0.004299622491555732), ('違規', 0.004283727399165507)]\n",
      "\n",
      "strTM =  17[('立委', 0.031778754722232246), ('民主進步黨', 0.025949729164197105), ('中國國民黨', 0.022074019863010167), ('選區', 0.01817769508681692), ('議員', 0.015600760711027733), ('支持', 0.014554525354457323), ('參選', 0.014513294404444696), ('選舉', 0.013848445335491087), ('候選人', 0.013729906354204784), ('競選', 0.01225074602250179), ('提名', 0.008617268552639038), ('總部', 0.008184343577506456), ('當選', 0.007895726927418066), ('初選', 0.007416417133521278), ('選民', 0.007261801070973926), ('參選人', 0.006895876389611862), ('連任', 0.006524797839498219), ('鄉親', 0.0064114127269634955), ('現任', 0.005993949358085647), ('基層', 0.0059475645393214415)]\n",
      "\n",
      "strTM =  18[('登革熱', 0.01823559250629777), ('高雄市', 0.013154387805108718), ('衛生局', 0.012234440422659938), ('農民', 0.010807232334001084), ('疫情', 0.010686865386764794), ('農業局', 0.010609486634970038), ('民眾', 0.008262331163862404), ('健康', 0.0072564073905305605), ('農業', 0.007153235721470884), ('防疫', 0.006938294744263225), ('醫院', 0.00690390418791), ('食品', 0.006577193902554359), ('防治', 0.005493891377427758), ('工作', 0.0054509031819862264), ('衛生', 0.005278950400220099), ('蔡復進', 0.005184376370248729), ('醫療', 0.00499522831030599), ('目前', 0.004745896776745106), ('市民', 0.004702908581303574), ('何啟功', 0.004470772325919302)]\n",
      "\n",
      "strTM =  19[('土地', 0.037903354760305735), ('開發', 0.01742300681185839), ('地方', 0.013962710671911478), ('公頃', 0.011851993987655506), ('目前', 0.009664523969426589), ('都市計畫', 0.008334132847228885), ('規劃', 0.008148645623460935), ('高雄市政府都市發展局', 0.007975950622021812), ('徵收', 0.007828840065240334), ('市場', 0.007656145063801209), ('大樓', 0.007649748952636797), ('用地', 0.0075282228405129685), ('興建', 0.006690332277974991), ('房子', 0.0066647478333173435), ('市府', 0.006607182832837634), ('李長生', 0.0064408839425629215), ('地政局', 0.006376922830918802), ('完成', 0.006370526719754389), ('計畫', 0.006223416162972913), ('拆除', 0.00618503949598644)]\n",
      "\n",
      "------------------------------\n"
     ]
    },
    {
     "name": "stdout",
     "output_type": "stream",
     "text": [
      "\n",
      " Coherence Score:  0.5815442351238558\n"
     ]
    }
   ],
   "source": [
    "import os\n",
    "import gensim\n",
    "\n",
    "# os.envirom.update({'MALLET_HOME':r'C:/mallet-2.0.8/'})\n",
    "mallet_path = r'C://mallet/bin/mallet'\n",
    "#'OS(C:)/mallet-2.0.8/bin/mallet'\n",
    "ldamal = gensim.models.wrappers.LdaMallet(mallet_path, id2word=dict, corpus=corpus, num_topics=20)\n",
    "output = open(\"KCC Data/CkipNewsCis18850-KccDict2020-MalletNum20.txt\", 'w', encoding='utf-8-sig')\n",
    "\n",
    "#print(ldamal.show_topics(formatted=False))\n",
    "# 列出最重要的前若干个主题\n",
    "lsTM = ldamal.show_topics(num_topics=20, num_words=20, log=False, formatted=False)\n",
    "for tupleTM in lsTM:\n",
    "        str1 = \"\".join(str(x) for x in tupleTM)\n",
    "        #print(\"type(str1) = \", type(str1))\n",
    "        str1 += \"\\n\"\n",
    "        print(\"strTM = \", str1)\n",
    "        output.write(str1)\n",
    "output.close()\n",
    " \n",
    "#  print(\"------------------------------\")\n",
    "#  print(\"Perplexity = \", ldamal.log_perplexity(corpus))\n",
    "\n",
    "print(\"------------------------------\")\n",
    "cm = models.CoherenceModel(model=ldamal, texts=list(fList), dictionary= dict, coherence= 'c_v')\n",
    "coher_lda = cm.get_coherence()\n",
    "print(\"\\n Coherence Score: \", coher_lda)\n"
   ]
  },
  {
   "cell_type": "markdown",
   "metadata": {},
   "source": [
    "### Finding the optimal number of topics"
   ]
  },
  {
   "cell_type": "code",
   "execution_count": 7,
   "metadata": {},
   "outputs": [],
   "source": [
    "def compute_coherence_values(dictionary, corpus, texts, limit, start, step):\n",
    "    \"\"\"\n",
    "    Compute c_v coherence for various number of topics\n",
    "\n",
    "    Parameters:\n",
    "    ----------\n",
    "    dictionary : Gensim dictionary\n",
    "    corpus : Gensim corpus\n",
    "    texts : List of input texts\n",
    "    limit : Max num of topics\n",
    "\n",
    "    Returns:\n",
    "    -------\n",
    "    model_list : List of LDA topic models\n",
    "    coherence_values : Coherence values corresponding to the LDA model with respective number of topics\n",
    "    \"\"\"\n",
    "    # global mallet_path, dict\n",
    "    coherence_values = []\n",
    "    model_list = []\n",
    "    for num_topics in range(start, limit, step):\n",
    "        model = models.wrappers.LdaMallet(mallet_path, corpus=corpus, num_topics=num_topics, id2word=dict)\n",
    "        model_list.append(model)\n",
    "        coherencemodel = CoherenceModel(model=model, texts=texts, dictionary=dictionary, coherence='c_v')\n",
    "        coherence_values.append(coherencemodel.get_coherence())\n",
    "        coher = coherencemodel.get_coherence()\n",
    "        print(\"Num_topics: \", num_topics, \" Coherence Score= \", coher)\n",
    "    return model_list, coherence_values"
   ]
  },
  {
   "cell_type": "code",
   "execution_count": 8,
   "metadata": {
    "scrolled": true
   },
   "outputs": [
    {
     "name": "stdout",
     "output_type": "stream",
     "text": [
      "Num_topics:  3  Coherence Score=  0.47285066955368754\n",
      "Num_topics:  6  Coherence Score=  0.5090850818713182\n",
      "Num_topics:  9  Coherence Score=  0.5163576973446397\n",
      "Num_topics:  12  Coherence Score=  0.5302508809623893\n",
      "Num_topics:  15  Coherence Score=  0.5642705951233727\n",
      "Num_topics:  18  Coherence Score=  0.5944860532026117\n",
      "Num_topics:  21  Coherence Score=  0.5892347126131755\n"
     ]
    }
   ],
   "source": [
    "lim=24; sta=3; ste=3;\n",
    "model_list, coherence_values = compute_coherence_values(dictionary=dict, corpus=corpus, texts=list(fList), limit=lim, start=sta, step=ste)"
   ]
  },
  {
   "cell_type": "code",
   "execution_count": 9,
   "metadata": {
    "scrolled": true
   },
   "outputs": [
    {
     "data": {
      "image/png": "[encoded data removed]",
      "text/plain": [
       "<Figure size 432x288 with 1 Axes>"
      ]
     },
     "metadata": {
      "needs_background": "light"
     },
     "output_type": "display_data"
    }
   ],
   "source": [
    "# Show graph\n",
    "import matplotlib.pyplot as plt\n",
    "\n",
    "limit=lim; start=sta; step=ste;\n",
    "x = range(start, limit, step)\n",
    "plt.plot(x, coherence_values)\n",
    "plt.xlabel(\"Num Topics\")\n",
    "plt.ylabel(\"Coherence score\")\n",
    "plt.legend((\"coherence_values\"), loc='best')\n",
    "plt.show()"
   ]
  },
  {
   "cell_type": "code",
   "execution_count": 10,
   "metadata": {},
   "outputs": [
    {
     "name": "stdout",
     "output_type": "stream",
     "text": [
      "Num Topics = 3  has Coherence Value of 0.4729\n",
      "Num Topics = 6  has Coherence Value of 0.5091\n",
      "Num Topics = 9  has Coherence Value of 0.5164\n",
      "Num Topics = 12  has Coherence Value of 0.5303\n",
      "Num Topics = 15  has Coherence Value of 0.5643\n",
      "Num Topics = 18  has Coherence Value of 0.5945\n",
      "Num Topics = 21  has Coherence Value of 0.5892\n",
      "Optimal Topic Num = 18  Highest Value = 0.5944860532026117\n"
     ]
    }
   ],
   "source": [
    "# Print the coherence scores\n",
    "optNum = 0\n",
    "maxCV = 0\n",
    "for m, cv in zip(x, coherence_values):\n",
    "    # maxCV = lambda cv, maxCV: cv if cv > maxCV else maxCV\n",
    "    if cv > maxCV:\n",
    "        optNum = m\n",
    "        maxCV = cv \n",
    "    print(\"Num Topics =\", m, \" has Coherence Value of\", round(cv, 4))\n",
    "print(\"Optimal Topic Num =\", optNum, \" Highest Value =\", maxCV)"
   ]
  },
  {
   "cell_type": "markdown",
   "metadata": {},
   "source": [
    "###  Select the model and print the topics"
   ]
  },
  {
   "cell_type": "code",
   "execution_count": 11,
   "metadata": {},
   "outputs": [
    {
     "name": "stdout",
     "output_type": "stream",
     "text": [
      "[(0,\n",
      "  '0.038*\"市府\" + 0.034*\"議會\" + 0.024*\"預算\" + 0.021*\"中央\" + 0.021*\"議員\" + '\n",
      "  '0.014*\"高雄市議會\" + 0.014*\"市民\" + 0.013*\"高雄市\" + 0.008*\"康裕成\" + 0.008*\"財政\" + '\n",
      "  '0.008*\"補助\" + 0.008*\"編列\" + 0.007*\"提出\" + 0.006*\"監督\" + 0.006*\"經費\" + '\n",
      "  '0.006*\"台北市\" + 0.005*\"審查\" + 0.005*\"建設\" + 0.005*\"政府\" + 0.005*\"地方\"'),\n",
      " (1,\n",
      "  '0.022*\"支持\" + 0.019*\"議員\" + 0.015*\"競選\" + 0.015*\"鄉親\" + 0.014*\"候選人\" + '\n",
      "  '0.011*\"里長\" + 0.011*\"總部\" + 0.010*\"服務\" + 0.010*\"立委\" + 0.009*\"擔任\" + 0.008*\"成立\" '\n",
      "  '+ 0.007*\"楊秋興\" + 0.007*\"岡山\" + 0.007*\"當選\" + 0.006*\"昨天\" + 0.006*\"三民區\" + '\n",
      "  '0.005*\"選民\" + 0.005*\"地區\" + 0.005*\"選區\" + 0.005*\"連任\"'),\n",
      " (2,\n",
      "  '0.012*\"照顧\" + 0.011*\"服務\" + 0.011*\"社會局\" + 0.010*\"農業局\" + 0.010*\"農民\" + '\n",
      "  '0.009*\"補助\" + 0.009*\"老人\" + 0.008*\"衛生局\" + 0.008*\"健康\" + 0.007*\"醫療\" + '\n",
      "  '0.007*\"長輩\" + 0.007*\"醫院\" + 0.007*\"農業\" + 0.007*\"美濃\" + 0.007*\"協助\" + 0.006*\"目前\" '\n",
      "  '+ 0.006*\"食品\" + 0.006*\"民眾\" + 0.006*\"提供\" + 0.005*\"政府\"'),\n",
      " (3,\n",
      "  '0.062*\"高雄\" + 0.025*\"產業\" + 0.024*\"高雄市\" + 0.022*\"城市\" + 0.021*\"發展\" + '\n",
      "  '0.012*\"經濟\" + 0.009*\"推動\" + 0.009*\"台灣\" + 0.009*\"投資\" + 0.008*\"機會\" + 0.007*\"包括\" '\n",
      "  '+ 0.007*\"國際\" + 0.006*\"第一\" + 0.006*\"人口\" + 0.006*\"高雄市政府\" + 0.006*\"就業\" + '\n",
      "  '0.006*\"合作\" + 0.006*\"建設\" + 0.005*\"透過\" + 0.005*\"努力\"'),\n",
      " (4,\n",
      "  '0.022*\"地方\" + 0.019*\"公園\" + 0.017*\"規劃\" + 0.016*\"空間\" + 0.015*\"鳳山\" + 0.012*\"文化\" '\n",
      "  '+ 0.012*\"社區\" + 0.009*\"環境\" + 0.008*\"中心\" + 0.008*\"文化局\" + 0.007*\"建議\" + '\n",
      "  '0.007*\"市府\" + 0.006*\"歷史\" + 0.006*\"左營\" + 0.006*\"計畫\" + 0.006*\"興建\" + 0.006*\"建設\" '\n",
      "  '+ 0.005*\"市民\" + 0.005*\"設施\" + 0.005*\"眷村\"'),\n",
      " (5,\n",
      "  '0.035*\"土地\" + 0.019*\"地方\" + 0.015*\"開發\" + 0.012*\"目前\" + 0.011*\"道路\" + 0.010*\"完成\" '\n",
      "  '+ 0.010*\"開闢\" + 0.009*\"公頃\" + 0.008*\"都市計畫\" + 0.008*\"徵收\" + 0.007*\"市政府\" + '\n",
      "  '0.007*\"用地\" + 0.007*\"計畫\" + 0.007*\"政府\" + 0.007*\"高雄市政府都市發展局\" + 0.006*\"房子\" + '\n",
      "  '0.006*\"申請\" + 0.006*\"地政局\" + 0.006*\"李長生\" + 0.006*\"市場\"'),\n",
      " (6,\n",
      "  '0.024*\"工程\" + 0.014*\"水利局\" + 0.014*\"道路\" + 0.012*\"原住民\" + 0.012*\"改善\" + '\n",
      "  '0.011*\"經費\" + 0.011*\"工務局\" + 0.010*\"完成\" + 0.009*\"地區\" + 0.009*\"排水\" + '\n",
      "  '0.008*\"單位\" + 0.008*\"區公所\" + 0.007*\"淹水\" + 0.007*\"地方\" + 0.007*\"目前\" + '\n",
      "  '0.006*\"施工\" + 0.006*\"會勘\" + 0.006*\"原民會\" + 0.006*\"滯洪池\" + 0.005*\"相關\"'),\n",
      " (7,\n",
      "  '0.031*\"觀光\" + 0.025*\"高雄\" + 0.009*\"旗津\" + 0.008*\"觀光局\" + 0.007*\"遊客\" + '\n",
      "  '0.007*\"旅遊\" + 0.007*\"高雄市政府海洋局\" + 0.007*\"景點\" + 0.006*\"活動\" + 0.006*\"民眾\" + '\n",
      "  '0.006*\"愛河\" + 0.006*\"日本\" + 0.005*\"行銷\" + 0.005*\"蓮池潭\" + 0.005*\"特色\" + '\n",
      "  '0.005*\"吸引\" + 0.005*\"推出\" + 0.005*\"業者\" + 0.005*\"台灣\" + 0.004*\"市場\"'),\n",
      " (8,\n",
      "  '0.032*\"學校\" + 0.023*\"學生\" + 0.023*\"教育局\" + 0.021*\"教育\" + 0.012*\"孩子\" + '\n",
      "  '0.011*\"高雄市\" + 0.011*\"老師\" + 0.010*\"家長\" + 0.009*\"運動\" + 0.007*\"大學\" + '\n",
      "  '0.007*\"校長\" + 0.007*\"國中\" + 0.006*\"學習\" + 0.006*\"國小\" + 0.006*\"校園\" + 0.005*\"教師\" '\n",
      "  '+ 0.005*\"新輝\" + 0.005*\"教育部\" + 0.005*\"小朋友\" + 0.004*\"高中\"'),\n",
      " (9,\n",
      "  '0.046*\"民主進步黨\" + 0.031*\"中國國民黨\" + 0.026*\"立委\" + 0.018*\"韓國瑜\" + 0.015*\"選舉\" + '\n",
      "  '0.014*\"選區\" + 0.013*\"參選\" + 0.013*\"議員\" + 0.009*\"提名\" + 0.008*\"陳水扁\" + '\n",
      "  '0.008*\"初選\" + 0.008*\"議長\" + 0.007*\"總統\" + 0.007*\"綠營\" + 0.007*\"民調\" + '\n",
      "  '0.007*\"陳致中\" + 0.006*\"主委\" + 0.006*\"參選人\" + 0.006*\"黨籍\" + 0.006*\"現任\"'),\n",
      " (10,\n",
      "  '0.017*\"議員\" + 0.007*\"調查\" + 0.007*\"警方\" + 0.006*\"選舉\" + 0.006*\"議長\" + 0.005*\"指出\" '\n",
      "  '+ 0.005*\"判決\" + 0.005*\"洪平朗\" + 0.005*\"亮票\" + 0.005*\"昨天\" + 0.005*\"賄選\" + '\n",
      "  '0.005*\"臺灣高雄地方檢察署\" + 0.004*\"檢方\" + 0.004*\"司法\" + 0.004*\"檢察官\" + 0.004*\"法院\" + '\n",
      "  '0.004*\"質疑\" + 0.004*\"李喬如\" + 0.004*\"違反\" + 0.003*\"涉嫌\"'),\n",
      " (11,\n",
      "  '0.058*\"市長\" + 0.039*\"局長\" + 0.035*\"議員\" + 0.019*\"裡面\" + 0.017*\"真的\" + 0.017*\"本席\" '\n",
      "  '+ 0.015*\"市政府\" + 0.015*\"答覆\" + 0.014*\"回答\" + 0.013*\"時間\" + 0.013*\"辦法\" + '\n",
      "  '0.013*\"地方\" + 0.012*\"許崑源\" + 0.012*\"報告\" + 0.011*\"剛剛\" + 0.011*\"高雄市\" + '\n",
      "  '0.010*\"提到\" + 0.010*\"包括\" + 0.009*\"需要\" + 0.008*\"質詢\"'),\n",
      " (12,\n",
      "  '0.068*\"陳菊\" + 0.030*\"台灣\" + 0.023*\"市長\" + 0.022*\"高雄市\" + 0.021*\"高雄\" + '\n",
      "  '0.012*\"政府\" + 0.012*\"總統\" + 0.011*\"蔡英文\" + 0.009*\"政治\" + 0.007*\"國家\" + '\n",
      "  '0.007*\"執政\" + 0.007*\"媒體\" + 0.006*\"團隊\" + 0.006*\"面對\" + 0.006*\"行政院\" + '\n",
      "  '0.006*\"表達\" + 0.006*\"支持\" + 0.006*\"民主\" + 0.006*\"中國\" + 0.005*\"議題\"'),\n",
      " (13,\n",
      "  '0.024*\"指出\" + 0.021*\"高雄市\" + 0.021*\"高市\" + 0.017*\"市府\" + 0.016*\"民眾\" + '\n",
      "  '0.015*\"登革熱\" + 0.014*\"去年\" + 0.013*\"昨天\" + 0.010*\"高市府\" + 0.009*\"疫情\" + '\n",
      "  '0.009*\"持續\" + 0.006*\"防疫\" + 0.006*\"市民\" + 0.006*\"統計\" + 0.005*\"工作\" + 0.005*\"超過\" '\n",
      "  '+ 0.005*\"防治\" + 0.005*\"台南市\" + 0.004*\"前往\" + 0.004*\"台南\"'),\n",
      " (14,\n",
      "  '0.023*\"高雄市政府環境保護局\" + 0.019*\"中國石油\" + 0.018*\"污染\" + 0.014*\"公司\" + 0.013*\"居民\" + '\n",
      "  '0.013*\"林園\" + 0.012*\"管線\" + 0.010*\"業者\" + 0.010*\"工廠\" + 0.008*\"石化\" + 0.008*\"環境\" '\n",
      "  '+ 0.008*\"工業區\" + 0.007*\"環保\" + 0.007*\"遷村\" + 0.007*\"垃圾\" + 0.006*\"大林蒲\" + '\n",
      "  '0.006*\"管理\" + 0.005*\"地方\" + 0.005*\"廠商\" + 0.005*\"陳金德\"'),\n",
      " (15,\n",
      "  '0.020*\"發生\" + 0.014*\"人員\" + 0.011*\"單位\" + 0.009*\"高雄市政府警察局\" + 0.009*\"相關\" + '\n",
      "  '0.009*\"氣爆\" + 0.009*\"民眾\" + 0.008*\"市府\" + 0.007*\"責任\" + 0.007*\"工作\" + 0.007*\"警察\" '\n",
      "  '+ 0.006*\"員工\" + 0.006*\"勞工\" + 0.006*\"事件\" + 0.005*\"高雄市政府\" + 0.005*\"現場\" + '\n",
      "  '0.005*\"機關\" + 0.005*\"法律\" + 0.005*\"高雄氣爆\" + 0.005*\"案件\"'),\n",
      " (16,\n",
      "  '0.030*\"活動\" + 0.017*\"舉辦\" + 0.011*\"參加\" + 0.008*\"昨天\" + 0.007*\"參與\" + 0.007*\"高雄\" '\n",
      "  '+ 0.007*\"民眾\" + 0.006*\"邀請\" + 0.006*\"現場\" + 0.004*\"比賽\" + 0.004*\"表演\" + '\n",
      "  '0.004*\"藝術\" + 0.004*\"主辦\" + 0.004*\"選手\" + 0.004*\"上午\" + 0.004*\"團體\" + '\n",
      "  '0.003*\"高雄市\" + 0.003*\"公益\" + 0.003*\"國際\" + 0.003*\"文化\"'),\n",
      " (17,\n",
      "  '0.024*\"交通\" + 0.016*\"交通局\" + 0.016*\"捷運\" + 0.014*\"高雄輕軌\" + 0.011*\"民眾\" + '\n",
      "  '0.011*\"規劃\" + 0.010*\"公車\" + 0.010*\"機車\" + 0.008*\"目前\" + 0.008*\"改善\" + 0.007*\"道路\" '\n",
      "  '+ 0.007*\"運輸\" + 0.007*\"路線\" + 0.007*\"停車\" + 0.007*\"車站\" + 0.006*\"鐵路地下化\" + '\n",
      "  '0.006*\"車輛\" + 0.006*\"停車場\" + 0.006*\"國道\" + 0.006*\"公里\"')]\n"
     ]
    }
   ],
   "source": [
    "from pprint import pprint\n",
    "\n",
    "optimal_model = model_list[5]\n",
    "# model_topics = optimal_model.show_topics(formatted=False)\n",
    "pprint(optimal_model.print_topics(num_words=20))"
   ]
  },
  {
   "cell_type": "code",
   "execution_count": null,
   "metadata": {},
   "outputs": [],
   "source": []
  }
 ],
 "metadata": {
  "kernelspec": {
   "display_name": "Python 3",
   "language": "python",
   "name": "python3"
  },
  "language_info": {
   "codemirror_mode": {
    "name": "ipython",
    "version": 3
   },
   "file_extension": ".py",
   "mimetype": "text/x-python",
   "name": "python",
   "nbconvert_exporter": "python",
   "pygments_lexer": "ipython3",
   "version": "3.8.5"
  }
 },
 "nbformat": 4,
 "nbformat_minor": 4
}
